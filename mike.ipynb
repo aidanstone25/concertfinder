{
 "cells": [
  {
   "cell_type": "code",
   "execution_count": 3,
   "metadata": {},
   "outputs": [
    {
     "name": "stdout",
     "output_type": "stream",
     "text": [
      "['g', 'k', 'y', 'p', 'p', 'u', 'i', 'q', 'h', 'u', 'v', 'k', 'd']\n",
      "['q', 'u', 'i', 'z', 'z', 'e', 's', 'a', 'r', 'e', 'f', 'u', 'n']\n"
     ]
    }
   ],
   "source": [
    "letter_to_position = {0: 'a', 1: 'b', 2: 'c', 3: 'd', 4: 'e', 5: 'f', 6: 'g', 7: 'h', 8: 'i', 9: 'j', 10: 'k', 11: 'l', 12: 'm', 13: 'n', 14: 'o', 15: 'p', 16: 'q', 17: 'r', 18: 's', 19: 't', 20: 'u', 21: 'v', 22: 'w', 23: 'x', 24: 'y', 25: 'z'}\n",
    "rem_list= [24,2,16,7,7,12,0,8,25,12,13,2,21]\n",
    "output= []\n",
    "output2 = []\n",
    "for letter in rem_list:\n",
    "    output.append(letter_to_position[(letter+8)%26])\n",
    "for letter in rem_list:\n",
    "    output2.append(letter_to_position[(letter-8)%26])\n",
    "print(output)\n",
    "print(output2)"
   ]
  },
  {
   "cell_type": "code",
   "execution_count": 6,
   "metadata": {},
   "outputs": [
    {
     "name": "stdout",
     "output_type": "stream",
     "text": [
      "['v', 'j', 'c', 'q', 'n', 'v', 'j', 'c', 'r', 'l', 'b', 'l', 'j', 'w', 'q', 'n', 'u', 'y', 'b', 'x', 'u', 'e', 'n', 'c', 'q', 'n', 'f', 'x', 'a', 'u', 'm', 'b', 'y', 'a', 'x', 'k', 'u', 'n', 'v', 'b']\n",
      "\n",
      "['l', 'z', 's', 'g', 'd', 'l', 'z', 's', 'h', 'b', 'r', 'b', 'z', 'm', 'g', 'd', 'k', 'o', 'r', 'n', 'k', 'u', 'd', 's', 'g', 'd', 'v', 'n', 'q', 'k', 'c', 'r', 'o', 'q', 'n', 'a', 'k', 'd', 'l', 'r']\n",
      "\n",
      "['k', 'y', 'r', 'f', 'c', 'k', 'y', 'r', 'g', 'a', 'q', 'a', 'y', 'l', 'f', 'c', 'j', 'n', 'q', 'm', 'j', 't', 'c', 'r', 'f', 'c', 'u', 'm', 'p', 'j', 'b', 'q', 'n', 'p', 'm', 'z', 'j', 'c', 'k', 'q']\n",
      "\n",
      "['w', 'k', 'd', 'r', 'o', 'w', 'k', 'd', 's', 'm', 'c', 'm', 'k', 'x', 'r', 'o', 'v', 'z', 'c', 'y', 'v', 'f', 'o', 'd', 'r', 'o', 'g', 'y', 'b', 'v', 'n', 'c', 'z', 'b', 'y', 'l', 'v', 'o', 'w', 'c']\n",
      "\n",
      "['d', 'r', 'k', 'y', 'v', 'd', 'r', 'k', 'z', 't', 'j', 't', 'r', 'e', 'y', 'v', 'c', 'g', 'j', 'f', 'c', 'm', 'v', 'k', 'y', 'v', 'n', 'f', 'i', 'c', 'u', 'j', 'g', 'i', 'f', 's', 'c', 'v', 'd', 'j']\n",
      "\n",
      "['d', 'r', 'k', 'y', 'v', 'd', 'r', 'k', 'z', 't', 'j', 't', 'r', 'e', 'y', 'v', 'c', 'g', 'j', 'f', 'c', 'm', 'v', 'k', 'y', 'v', 'n', 'f', 'i', 'c', 'u', 'j', 'g', 'i', 'f', 's', 'c', 'v', 'd', 'j']\n",
      "\n",
      "['p', 'd', 'w', 'k', 'h', 'p', 'd', 'w', 'l', 'f', 'v', 'f', 'd', 'q', 'k', 'h', 'o', 's', 'v', 'r', 'o', 'y', 'h', 'w', 'k', 'h', 'z', 'r', 'u', 'o', 'g', 'v', 's', 'u', 'r', 'e', 'o', 'h', 'p', 'v']\n",
      "\n",
      "['r', 'f', 'y', 'm', 'j', 'r', 'f', 'y', 'n', 'h', 'x', 'h', 'f', 's', 'm', 'j', 'q', 'u', 'x', 't', 'q', 'a', 'j', 'y', 'm', 'j', 'b', 't', 'w', 'q', 'i', 'x', 'u', 'w', 't', 'g', 'q', 'j', 'r', 'x']\n",
      "\n",
      "['q', 'e', 'x', 'l', 'i', 'q', 'e', 'x', 'm', 'g', 'w', 'g', 'e', 'r', 'l', 'i', 'p', 't', 'w', 's', 'p', 'z', 'i', 'x', 'l', 'i', 'a', 's', 'v', 'p', 'h', 'w', 't', 'v', 's', 'f', 'p', 'i', 'q', 'w']\n",
      "\n",
      "['q', 'e', 'x', 'l', 'i', 'q', 'e', 'x', 'm', 'g', 'w', 'g', 'e', 'r', 'l', 'i', 'p', 't', 'w', 's', 'p', 'z', 'i', 'x', 'l', 'i', 'a', 's', 'v', 'p', 'h', 'w', 't', 'v', 's', 'f', 'p', 'i', 'q', 'w']\n",
      "\n",
      "['m', 'a', 't', 'h', 'e', 'm', 'a', 't', 'i', 'c', 's', 'c', 'a', 'n', 'h', 'e', 'l', 'p', 's', 'o', 'l', 'v', 'e', 't', 'h', 'e', 'w', 'o', 'r', 'l', 'd', 's', 'p', 'r', 'o', 'b', 'l', 'e', 'm', 's']\n",
      "\n",
      "['u', 'i', 'b', 'p', 'm', 'u', 'i', 'b', 'q', 'k', 'a', 'k', 'i', 'v', 'p', 'm', 't', 'x', 'a', 'w', 't', 'd', 'm', 'b', 'p', 'm', 'e', 'w', 'z', 't', 'l', 'a', 'x', 'z', 'w', 'j', 't', 'm', 'u', 'a']\n",
      "\n",
      "['v', 'j', 'c', 'q', 'n', 'v', 'j', 'c', 'r', 'l', 'b', 'l', 'j', 'w', 'q', 'n', 'u', 'y', 'b', 'x', 'u', 'e', 'n', 'c', 'q', 'n', 'f', 'x', 'a', 'u', 'm', 'b', 'y', 'a', 'x', 'k', 'u', 'n', 'v', 'b']\n",
      "\n",
      "['l', 'z', 's', 'g', 'd', 'l', 'z', 's', 'h', 'b', 'r', 'b', 'z', 'm', 'g', 'd', 'k', 'o', 'r', 'n', 'k', 'u', 'd', 's', 'g', 'd', 'v', 'n', 'q', 'k', 'c', 'r', 'o', 'q', 'n', 'a', 'k', 'd', 'l', 'r']\n",
      "\n",
      "['l', 'z', 's', 'g', 'd', 'l', 'z', 's', 'h', 'b', 'r', 'b', 'z', 'm', 'g', 'd', 'k', 'o', 'r', 'n', 'k', 'u', 'd', 's', 'g', 'd', 'v', 'n', 'q', 'k', 'c', 'r', 'o', 'q', 'n', 'a', 'k', 'd', 'l', 'r']\n",
      "\n",
      "['v', 'j', 'c', 'q', 'n', 'v', 'j', 'c', 'r', 'l', 'b', 'l', 'j', 'w', 'q', 'n', 'u', 'y', 'b', 'x', 'u', 'e', 'n', 'c', 'q', 'n', 'f', 'x', 'a', 'u', 'm', 'b', 'y', 'a', 'x', 'k', 'u', 'n', 'v', 'b']\n",
      "\n",
      "['w', 'k', 'd', 'r', 'o', 'w', 'k', 'd', 's', 'm', 'c', 'm', 'k', 'x', 'r', 'o', 'v', 'z', 'c', 'y', 'v', 'f', 'o', 'd', 'r', 'o', 'g', 'y', 'b', 'v', 'n', 'c', 'z', 'b', 'y', 'l', 'v', 'o', 'w', 'c']\n",
      "\n",
      "['k', 'y', 'r', 'f', 'c', 'k', 'y', 'r', 'g', 'a', 'q', 'a', 'y', 'l', 'f', 'c', 'j', 'n', 'q', 'm', 'j', 't', 'c', 'r', 'f', 'c', 'u', 'm', 'p', 'j', 'b', 'q', 'n', 'p', 'm', 'z', 'j', 'c', 'k', 'q']\n",
      "\n",
      "['a', 'o', 'h', 'v', 's', 'a', 'o', 'h', 'w', 'q', 'g', 'q', 'o', 'b', 'v', 's', 'z', 'd', 'g', 'c', 'z', 'j', 's', 'h', 'v', 's', 'k', 'c', 'f', 'z', 'r', 'g', 'd', 'f', 'c', 'p', 'z', 's', 'a', 'g']\n",
      "\n",
      "['g', 'u', 'n', 'b', 'y', 'g', 'u', 'n', 'c', 'w', 'm', 'w', 'u', 'h', 'b', 'y', 'f', 'j', 'm', 'i', 'f', 'p', 'y', 'n', 'b', 'y', 'q', 'i', 'l', 'f', 'x', 'm', 'j', 'l', 'i', 'v', 'f', 'y', 'g', 'm']\n",
      "\n",
      "['s', 'g', 'z', 'n', 'k', 's', 'g', 'z', 'o', 'i', 'y', 'i', 'g', 't', 'n', 'k', 'r', 'v', 'y', 'u', 'r', 'b', 'k', 'z', 'n', 'k', 'c', 'u', 'x', 'r', 'j', 'y', 'v', 'x', 'u', 'h', 'r', 'k', 's', 'y']\n",
      "\n",
      "['o', 'c', 'v', 'j', 'g', 'o', 'c', 'v', 'k', 'e', 'u', 'e', 'c', 'p', 'j', 'g', 'n', 'r', 'u', 'q', 'n', 'x', 'g', 'v', 'j', 'g', 'y', 'q', 't', 'n', 'f', 'u', 'r', 't', 'q', 'd', 'n', 'g', 'o', 'u']\n",
      "\n",
      "['y', 'm', 'f', 't', 'q', 'y', 'm', 'f', 'u', 'o', 'e', 'o', 'm', 'z', 't', 'q', 'x', 'b', 'e', 'a', 'x', 'h', 'q', 'f', 't', 'q', 'i', 'a', 'd', 'x', 'p', 'e', 'b', 'd', 'a', 'n', 'x', 'q', 'y', 'e']\n",
      "\n",
      "['i', 'w', 'p', 'd', 'a', 'i', 'w', 'p', 'e', 'y', 'o', 'y', 'w', 'j', 'd', 'a', 'h', 'l', 'o', 'k', 'h', 'r', 'a', 'p', 'd', 'a', 's', 'k', 'n', 'h', 'z', 'o', 'l', 'n', 'k', 'x', 'h', 'a', 'i', 'o']\n",
      "\n",
      "['b', 'p', 'i', 'w', 't', 'b', 'p', 'i', 'x', 'r', 'h', 'r', 'p', 'c', 'w', 't', 'a', 'e', 'h', 'd', 'a', 'k', 't', 'i', 'w', 't', 'l', 'd', 'g', 'a', 's', 'h', 'e', 'g', 'd', 'q', 'a', 't', 'b', 'h']\n",
      "\n",
      "['f', 't', 'm', 'a', 'x', 'f', 't', 'm', 'b', 'v', 'l', 'v', 't', 'g', 'a', 'x', 'e', 'i', 'l', 'h', 'e', 'o', 'x', 'm', 'a', 'x', 'p', 'h', 'k', 'e', 'w', 'l', 'i', 'k', 'h', 'u', 'e', 'x', 'f', 'l']\n",
      "\n"
     ]
    }
   ],
   "source": [
    "pos = [8,19,0,14,13,17,8,18,7,3,11,5,2]\n",
    "letter_dict = {'a': 0, 'b': 1, 'c': 2, 'd': 3, 'e': 4, 'f': 5, 'g': 6, 'h': 7, 'i': 8, 'j': 9, 'k': 10, 'l': 11, 'm': 12,\n",
    " 'n': 13, 'o': 14, 'p': 15, 'q': 16, 'r': 17, 's': 18, 't': 19, 'u': 20, 'v': 21,'w':22,'x':23,'y':24,'z':25}\n",
    "new_letters= []\n",
    "string = 'DRKYVDRKZTJTREYVCGJFCMVKYVNFICUJGIFSCVDJ'\n",
    "temp1 = []\n",
    "temp2=[]\n",
    "for char in string:\n",
    "    new_letters.append(letter_dict[char.lower()])\n",
    "all_lists = []\n",
    "for num in pos:\n",
    "    for letter in new_letters:\n",
    "        new_num1 = (letter-num)%26\n",
    "        new_num2 = (letter+num)%26\n",
    "        temp1.append(letter_to_position[new_num1])\n",
    "        temp2.append(letter_to_position[new_num2])\n",
    "    all_lists.append(temp1)\n",
    "    all_lists.append(temp2)\n",
    "    temp1=[]\n",
    "    temp2=[]\n",
    "for list3 in all_lists:\n",
    "    print(list3)\n",
    "    print('')\n"
   ]
  },
  {
   "attachments": {},
   "cell_type": "markdown",
   "metadata": {},
   "source": [
    "-6%26\n"
   ]
  }
 ],
 "metadata": {
  "kernelspec": {
   "display_name": "Python 3",
   "language": "python",
   "name": "python3"
  },
  "language_info": {
   "codemirror_mode": {
    "name": "ipython",
    "version": 3
   },
   "file_extension": ".py",
   "mimetype": "text/x-python",
   "name": "python",
   "nbconvert_exporter": "python",
   "pygments_lexer": "ipython3",
   "version": "3.11.1"
  },
  "orig_nbformat": 4,
  "vscode": {
   "interpreter": {
    "hash": "bf76441dbe4afb6b39d8d92fd21c31e10267c5fc21ab228f33891a3330b4175d"
   }
  }
 },
 "nbformat": 4,
 "nbformat_minor": 2
}
